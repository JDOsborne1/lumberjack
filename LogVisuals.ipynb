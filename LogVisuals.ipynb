{
 "cells": [
  {
   "cell_type": "markdown",
   "metadata": {},
   "source": [
    "# Insight Plotting"
   ]
  },
  {
   "cell_type": "markdown",
   "metadata": {},
   "source": [
    "### Collecting the data in the logs into a dataframe and the plotting any of the useful insights"
   ]
  },
  {
   "cell_type": "markdown",
   "metadata": {},
   "source": [
    "### Imports and Defines"
   ]
  },
  {
   "cell_type": "code",
   "execution_count": 16,
   "metadata": {},
   "outputs": [],
   "source": [
    "#Importing the regular expression library\n",
    "import re\n",
    "import pandas as pd\n",
    "import datetime as dt\n",
    "\n",
    "import numpy as np\n",
    "import dateutil as dtu\n",
    "import rpy2.rinterface"
   ]
  },
  {
   "cell_type": "code",
   "execution_count": 17,
   "metadata": {},
   "outputs": [],
   "source": [
    "#Defining the reguar expression which describes the formatting in the logs\n",
    "timeform = re.compile(r'^\\d{2}:\\d{2}')\n",
    "jobform = re.compile(r'\\(\\S*\\)')\n",
    "logform = re.compile(r'^\\d{2}:\\d{2}(\\s.*)\\(')\n",
    "dayform = re.compile(r'--\\w*--')\n",
    "dateform = re.compile(r'\\d{2}-\\d{2}-\\d{2}')\n",
    "lineform = re.compile(r'\\n')\n",
    "#defining a test string \n",
    "\n",
    "\n"
   ]
  },
  {
   "cell_type": "markdown",
   "metadata": {},
   "source": [
    "### String Slicing function"
   ]
  },
  {
   "cell_type": "code",
   "execution_count": 18,
   "metadata": {},
   "outputs": [],
   "source": [
    "def ordExtract(string):\n",
    "    if timeform.match(string):\n",
    "        time = dt.datetime.strptime(timeform.findall(string)[0],'%H:%M').time()\n",
    "    else:\n",
    "        time = []\n",
    "    jn = jobform.findall(string)\n",
    "    log = logform.findall(string)\n",
    "    return time, log, jn"
   ]
  },
  {
   "cell_type": "markdown",
   "metadata": {},
   "source": [
    "### Extracting the data from the logfile Pythonic"
   ]
  },
  {
   "cell_type": "code",
   "execution_count": 25,
   "metadata": {},
   "outputs": [],
   "source": [
    "filepath = 'C:\\\\Users\\\\j_osborne\\\\Documents\\\\Logging\\\\11-03-19.txt'\n",
    "loglist = []\n",
    "with open(filepath) as f:\n",
    "    weekbegin = dt.datetime.strptime(dateform.findall(filepath)[0], '%d-%m-%y')\n",
    "    x = f.read()\n",
    "    for i in range(len(dayform.split(x))):   \n",
    "        date = weekbegin + dt.timedelta(i-1)\n",
    "        for j in lineform.split(dayform.split(x)[i]):\n",
    "            time, log, jn = ordExtract(j)\n",
    "            if type(time) != list:\n",
    "                timestamp = dt.datetime.combine(date,time)\n",
    "                record = [timestamp, log[0], jn[0]]\n",
    "                loglist.append(record)\n",
    "                \n",
    "Logfile = pd.DataFrame(loglist, columns = [\"Timestamp\",\"Log\", \"JobNumber\"])    \n",
    "    "
   ]
  },
  {
   "cell_type": "markdown",
   "metadata": {},
   "source": [
    "Small issue with the interpretation of the weekdays, in that it recvord the 3rd day entry as the 3rd day of the week regardless of if there were missing days there. needs a revamp, use a dictionary to get the \"daynumber\" from the correct numbers. Alternative look into the reverse of the function used in the logger program to generate the days in the first place. "
   ]
  },
  {
   "cell_type": "code",
   "execution_count": 26,
   "metadata": {},
   "outputs": [
    {
     "name": "stdout",
     "output_type": "stream",
     "text": [
      "The rpy2.ipython extension is already loaded. To reload it, use:\n",
      "  %reload_ext rpy2.ipython\n"
     ]
    }
   ],
   "source": [
    "%load_ext rpy2.ipython"
   ]
  },
  {
   "cell_type": "code",
   "execution_count": 27,
   "metadata": {},
   "outputs": [],
   "source": [
    "Beginning = dt.datetime.strftime(weekbegin, \"%d-%m-%y\")"
   ]
  },
  {
   "cell_type": "code",
   "execution_count": 28,
   "metadata": {},
   "outputs": [
    {
     "name": "stderr",
     "output_type": "stream",
     "text": [
      "C:\\ProgramData\\Anaconda3\\lib\\site-packages\\rpy2-2.9.4-py3.7-win-amd64.egg\\rpy2\\robjects\\pandas2ri.py:191: FutureWarning: from_items is deprecated. Please use DataFrame.from_dict(dict(items), ...) instead. DataFrame.from_dict(OrderedDict(items)) may be used to preserve the key order.\n",
      "  res = PandasDataFrame.from_items(items)\n"
     ]
    }
   ],
   "source": [
    "%Rpush Logfile\n",
    "%Rpush Beginning "
   ]
  },
  {
   "cell_type": "code",
   "execution_count": 29,
   "metadata": {},
   "outputs": [],
   "source": [
    "%%R -o Log_Summary\n",
    "library(tidyverse)\n",
    "library(lubridate)\n",
    "library(viridis)\n",
    "Log_Summary <- Logfile %>%\n",
    "mutate(Timelead = lead(Timestamp, default = Logfile[nrow(Logfile[\"Log\"]),\"Timestamp\"])) %>%\n",
    "mutate(Timediff = (Timelead - Timestamp)) %>%\n",
    "group_by(Day = lubridate::wday(Timestamp, label = T), JobNumber) %>%\n",
    "summarise(Timeseg = as.integer(sum(Timediff)),Seconds_spent = lubridate::as.duration(Timeseg)) %>%\n",
    "filter(JobNumber != \"(-)\")"
   ]
  },
  {
   "cell_type": "code",
   "execution_count": 30,
   "metadata": {},
   "outputs": [
    {
     "data": {
      "image/png": "[encoded data removed]"
     },
     "metadata": {},
     "output_type": "display_data"
    }
   ],
   "source": [
    "%%R -o Plot\n",
    "\n",
    "Plot_Dat <- Log_Summary %>%\n",
    "  rename(xBin = Day, yRate1 = Timeseg, yBin = JobNumber) %>%\n",
    "  mutate(yRatemin = yRate1/3600)\n",
    "PlotTit <- paste0(\"Jobnumber composition of work time for \",Beginning)\n",
    "PlotSubTit <- \"Breakdown of hours spent in work by the Jobnumber of the billed time\"\n",
    "xlab <-  \"Day of the Week\"\n",
    "ylab <- \"Hours in the Day\"\n",
    "Palette <- c(magma(5, begin = 0.5, end = 1), cividis(5, begin = 0.5, end = 1), inferno(5, begin = 0.5, end = 1))\n",
    "\n",
    "\n",
    "     \n",
    "\n",
    "\n",
    "Plot <- Plot_Dat %>%\n",
    "  ggplot(aes(x = xBin)) +\n",
    "  geom_bar(aes(fill=yBin, y =yRatemin), position=position_stack(reverse=TRUE), stat=\"identity\") +\n",
    "  geom_text(aes(label= round(yRatemin,3), y =yRatemin),\n",
    "            position=position_stack(vjust=0.5),size=3) +\n",
    "  scale_fill_manual(values = Palette) + \n",
    "  labs(title = PlotTit, subtitle = PlotSubTit, x = xlab, y = ylab, fill=\"\") +\n",
    "  theme_bw() +\n",
    "  theme(axis.text.x=element_text(), panel.border=element_blank(), legend.position=\"bottom\") +\n",
    "  scale_y_continuous()\n",
    "print(Plot)"
   ]
  },
  {
   "cell_type": "markdown",
   "metadata": {},
   "source": [
    "Here I would want a section which can enumerate the utilisation of a given week, specifically the projected utilisation, that is where the number of billed hours is compared against the number of contracted hours, not the number of worked hours. Ideally this will be closer to 100% than the de facto utilisation since i'd work a bit extra"
   ]
  },
  {
   "cell_type": "code",
   "execution_count": null,
   "metadata": {},
   "outputs": [],
   "source": []
  },
  {
   "cell_type": "code",
   "execution_count": null,
   "metadata": {},
   "outputs": [],
   "source": []
  }
 ],
 "metadata": {
  "kernelspec": {
   "display_name": "Python 3",
   "language": "python",
   "name": "python3"
  },
  "language_info": {
   "codemirror_mode": {
    "name": "ipython",
    "version": 3
   },
   "file_extension": ".py",
   "mimetype": "text/x-python",
   "name": "python",
   "nbconvert_exporter": "python",
   "pygments_lexer": "ipython3",
   "version": "3.7.0"
  }
 },
 "nbformat": 4,
 "nbformat_minor": 2
}
